{
 "cells": [
  {
   "cell_type": "markdown",
   "metadata": {},
   "source": [
    "- A string is a sequence of characters. String literals in Python are enclosed by either double or single quotes.\n",
    "- Python strings are immutable which means they cannot be changed after they are created."
   ]
  },
  {
   "cell_type": "code",
   "execution_count": 2,
   "metadata": {},
   "outputs": [
    {
     "name": "stdout",
     "output_type": "stream",
     "text": [
      "I' m a 'Geek'\n"
     ]
    }
   ],
   "source": [
    "#creation\n",
    "my_string = 'Hello'\n",
    "my_string = \"Hello\"\n",
    "\n",
    "my_string = \"I' m a 'Geek'\"\n",
    "print(my_string)"
   ]
  },
  {
   "cell_type": "code",
   "execution_count": 3,
   "metadata": {},
   "outputs": [
    {
     "name": "stdout",
     "output_type": "stream",
     "text": [
      "Hello\n",
      "World\n"
     ]
    }
   ],
   "source": [
    "# triple quotes for multiline strings\n",
    "my_string = \"\"\"Hello\n",
    "World\"\"\"\n",
    "print(my_string)"
   ]
  },
  {
   "cell_type": "code",
   "execution_count": 4,
   "metadata": {},
   "outputs": [
    {
     "name": "stdout",
     "output_type": "stream",
     "text": [
      "H\n",
      "el\n",
      "Hello\n",
      "World\n",
      "HloWrd\n",
      "dlroW olleH\n"
     ]
    }
   ],
   "source": [
    "my_string = \"Hello World\"\n",
    "\n",
    "# get character by referring to index\n",
    "b = my_string[0]\n",
    "print(b)\n",
    "\n",
    "# Substrings with slicing\n",
    "b = my_string[1:3] # Note that the last index is not included\n",
    "print(b)\n",
    "b = my_string[:5] # from beginning\n",
    "print(b)\n",
    "b = my_string[6:] # until the end\n",
    "print(b)\n",
    "b = my_string[::2] # start to end with every second item\n",
    "print(b)\n",
    "b = my_string[::-1] # reverse the string with a negative step:\n",
    "print(b)\n"
   ]
  },
  {
   "cell_type": "code",
   "execution_count": 5,
   "metadata": {},
   "outputs": [
    {
     "name": "stdout",
     "output_type": "stream",
     "text": [
      "Hello Tom\n"
     ]
    }
   ],
   "source": [
    "#Concatenate two or more strings\n",
    "# concat strings with +\n",
    "greeting = \"Hello\"\n",
    "name = \"Tom\"\n",
    "sentence = greeting + ' ' + name\n",
    "print(sentence)"
   ]
  },
  {
   "cell_type": "code",
   "execution_count": 6,
   "metadata": {},
   "outputs": [
    {
     "name": "stdout",
     "output_type": "stream",
     "text": [
      "H\n",
      "e\n",
      "l\n",
      "l\n",
      "o\n"
     ]
    }
   ],
   "source": [
    "#Iterating\n",
    "# Iterating over a string by using a for in loop\n",
    "my_string = 'Hello'\n",
    "for i in my_string:\n",
    "    print(i)\n"
   ]
  },
  {
   "cell_type": "code",
   "execution_count": 8,
   "metadata": {},
   "outputs": [
    {
     "name": "stdout",
     "output_type": "stream",
     "text": [
      "yes\n",
      "yes\n"
     ]
    }
   ],
   "source": [
    "#check if a character or substring exists\n",
    "if \"e\" in \"Hello\":\n",
    "    print(\"yes\")\n",
    "if \"llo\" in \"Hello\":\n",
    "    print(\"yes\")"
   ]
  },
  {
   "cell_type": "markdown",
   "metadata": {},
   "source": [
    "Methods\n"
   ]
  },
  {
   "cell_type": "code",
   "execution_count": 9,
   "metadata": {},
   "outputs": [
    {
     "name": "stdout",
     "output_type": "stream",
     "text": [
      "Hello World\n",
      "11\n",
      "HELLO WORLD\n",
      "hello world\n",
      "True\n",
      "True\n",
      "4\n",
      "1\n",
      "Hello Universe\n",
      "['how', 'are', 'you', 'doing']\n",
      "['one', 'two', 'three']\n",
      "How are you doing\n"
     ]
    }
   ],
   "source": [
    "my_string = \"     Hello World \"\n",
    "\n",
    "# remove white space\n",
    "my_string = my_string.strip()\n",
    "print(my_string)\n",
    "\n",
    "# number of characters\n",
    "print(len(my_string))\n",
    "\n",
    "# Upper and lower cases\n",
    "print(my_string.upper())\n",
    "print(my_string.lower())\n",
    "\n",
    "# startswith and endswith\n",
    "print(\"hello\".startswith(\"he\"))\n",
    "print(\"hello\".endswith(\"llo\"))\n",
    "\n",
    "# find first index of a given substring, -1 otherwise\n",
    "print(\"Hello\".find(\"o\"))\n",
    "\n",
    "# count number of characters/substrings\n",
    "print(\"Hello\".count(\"e\"))\n",
    "\n",
    "# replace a substring with another string (only if the substring is found)\n",
    "# Note: The original string stays the same\n",
    "message = \"Hello World\"\n",
    "new_message = message.replace(\"World\", \"Universe\")\n",
    "print(new_message)\n",
    "\n",
    "# split the string into a list\n",
    "my_string = \"how are you doing\"\n",
    "a = my_string.split() # default argument is \" \"\n",
    "print(a)\n",
    "my_string = \"one,two,three\"\n",
    "a = my_string.split(\",\")\n",
    "print(a)\n",
    "\n",
    "# join elements of a list into a string\n",
    "my_list = ['How', 'are', 'you', 'doing']\n",
    "a = ' '.join(my_list) # the given string is the separator, e.g. ' ' between each argument\n",
    "print(a)"
   ]
  },
  {
   "cell_type": "markdown",
   "metadata": {},
   "source": [
    "Format"
   ]
  },
  {
   "cell_type": "code",
   "execution_count": 10,
   "metadata": {},
   "outputs": [
    {
     "name": "stdout",
     "output_type": "stream",
     "text": [
      "Hello Bob and Tom\n",
      "Hello Bob and Tom\n",
      "The integer value is 2\n",
      "The float value is 2.123\n",
      "The float value is 2.123400e+00\n",
      "The binary value is 10\n",
      "Hello Bob and Tom\n",
      "The decimal value is 3\n",
      "The float value is 3.141593\n",
      "The float value is 3.14\n"
     ]
    }
   ],
   "source": [
    "# use braces as placeholders\n",
    "a = \"Hello {0} and {1}\".format(\"Bob\", \"Tom\")\n",
    "print(a)\n",
    "\n",
    "# the positions are optional for the default order\n",
    "a = \"Hello {} and {}\".format(\"Bob\", \"Tom\")\n",
    "print(a)\n",
    "\n",
    "a = \"The integer value is {}\".format(2)\n",
    "print(a)\n",
    "\n",
    "# some special format rules for numbers\n",
    "a = \"The float value is {0:.3f}\".format(2.1234)\n",
    "print(a)\n",
    "a = \"The float value is {0:e}\".format(2.1234)\n",
    "print(a)\n",
    "a = \"The binary value is {0:b}\".format(2)\n",
    "print(a)\n",
    "\n",
    "# old style formatting by using % operator\n",
    "print(\"Hello %s and %s\" % (\"Bob\", \"Tom\")) # must be a tuple for multiple arguments\n",
    "val =  3.14159265359\n",
    "print(\"The decimal value is %d\" % val)\n",
    "print(\"The float value is %f\" % val)\n",
    "print(\"The float value is %.2f\" % val)"
   ]
  },
  {
   "cell_type": "markdown",
   "metadata": {},
   "source": [
    "f-Strings"
   ]
  },
  {
   "cell_type": "code",
   "execution_count": 11,
   "metadata": {},
   "outputs": [
    {
     "name": "stdout",
     "output_type": "stream",
     "text": [
      "Hello, Eric. You are 25.\n",
      "Pi is 3.142\n",
      "The value is 120\n"
     ]
    }
   ],
   "source": [
    "name = \"Eric\"\n",
    "age = 25\n",
    "a = f\"Hello, {name}. You are {age}.\"\n",
    "print(a)\n",
    "pi = 3.14159\n",
    "a = f\"Pi is {pi:.3f}\"\n",
    "print(a)\n",
    "# f-Strings are evaluated at runtime, which allows expressions\n",
    "a = f\"The value is {2*60}\"\n",
    "print(a)"
   ]
  }
 ],
 "metadata": {
  "kernelspec": {
   "display_name": "Python 3.8.5 ('base')",
   "language": "python",
   "name": "python3"
  },
  "language_info": {
   "codemirror_mode": {
    "name": "ipython",
    "version": 3
   },
   "file_extension": ".py",
   "mimetype": "text/x-python",
   "name": "python",
   "nbconvert_exporter": "python",
   "pygments_lexer": "ipython3",
   "version": "3.8.5"
  },
  "orig_nbformat": 4,
  "vscode": {
   "interpreter": {
    "hash": "9cd9301c5e71a82283eb7f50953f410c8e55a849d4a6f54bedda3cdfdad6099a"
   }
  }
 },
 "nbformat": 4,
 "nbformat_minor": 2
}
