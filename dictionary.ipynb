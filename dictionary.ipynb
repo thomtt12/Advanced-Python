{
 "cells": [
  {
   "cell_type": "markdown",
   "metadata": {},
   "source": [
    "- A dictionary is a collection which is unordered, changeable and indexed. \n",
    "- A dictionary consists of a collection of key-value pairs. Each key-value pair maps the key to its associated value. \n",
    "- A dictionary is written in braces {}. \n",
    "- Each key is separated from its value by a colon (:), and the items are separated by commas."
   ]
  },
  {
   "cell_type": "code",
   "execution_count": 2,
   "metadata": {},
   "outputs": [
    {
     "name": "stdout",
     "output_type": "stream",
     "text": [
      "{'name': 'Tom', 'age': 26, 'city': 'Hai Duong'}\n",
      "{'name': 'Tom', 'age': 26, 'city': 'Hai Duong'}\n"
     ]
    }
   ],
   "source": [
    "#create a dictionary\n",
    "my_dict = {'name':'Tom', 'age': 26, 'city':'Hai Duong'}\n",
    "print(my_dict)\n",
    "\n",
    "#or \n",
    "my_dict_2 = dict(name=\"Tom\", age = 26, city = 'Hai Duong')\n",
    "print(my_dict_2)"
   ]
  },
  {
   "cell_type": "code",
   "execution_count": 3,
   "metadata": {},
   "outputs": [
    {
     "data": {
      "text/plain": [
       "'Tom'"
      ]
     },
     "execution_count": 3,
     "metadata": {},
     "output_type": "execute_result"
    }
   ],
   "source": [
    "# access items\n",
    "name_in_dict = my_dict[\"name\"]\n",
    "name_in_dict"
   ]
  },
  {
   "cell_type": "code",
   "execution_count": 5,
   "metadata": {},
   "outputs": [
    {
     "name": "stdout",
     "output_type": "stream",
     "text": [
      "{'name': 'Tom', 'age': 26, 'city': 'Hai Duong', 'email': 'tom@abc.com'}\n",
      "{'name': 'Tom', 'age': 26, 'city': 'Hai Duong', 'email': 'cool@xyz.com'}\n"
     ]
    }
   ],
   "source": [
    "#add and change items\n",
    "my_dict[\"email\"] = \"tom@abc.com\"\n",
    "print(my_dict)\n",
    "\n",
    "#overwrite \n",
    "my_dict[\"email\"] = \"cool@xyz.com\"\n",
    "print(my_dict)"
   ]
  },
  {
   "cell_type": "code",
   "execution_count": 6,
   "metadata": {},
   "outputs": [
    {
     "name": "stdout",
     "output_type": "stream",
     "text": [
      "poped value: 26\n"
     ]
    }
   ],
   "source": [
    "#delete items \n",
    "# delete a key--value pair\n",
    "del my_dict['email']\n",
    "print(\"poped value:\", my_dict.pop(\"age\"))\n"
   ]
  },
  {
   "cell_type": "code",
   "execution_count": 7,
   "metadata": {},
   "outputs": [
    {
     "name": "stdout",
     "output_type": "stream",
     "text": [
      "Tom\n",
      "No key found\n"
     ]
    }
   ],
   "source": [
    "#check for keys\n",
    "my_dict = {'name': 'Tom', 'age': 26, 'city': 'Hai Duong'}\n",
    "#use if ... in ...\n",
    "if \"name\" in my_dict: \n",
    "    print(my_dict[\"name\"])\n",
    "\n",
    "#use try except\n",
    "try: \n",
    "    print(my_dict[\"firstname\"])\n",
    "except KeyError:\n",
    "    print(\"No key found\")"
   ]
  },
  {
   "cell_type": "code",
   "execution_count": 9,
   "metadata": {},
   "outputs": [
    {
     "name": "stdout",
     "output_type": "stream",
     "text": [
      "name Tom\n",
      "age 26\n",
      "city Hai Duong\n",
      "name\n",
      "age\n",
      "city\n",
      "Tom\n",
      "26\n",
      "Hai Duong\n",
      "name Tom\n",
      "age 26\n",
      "city Hai Duong\n"
     ]
    }
   ],
   "source": [
    "# Looping\n",
    "#loop over keys:\n",
    "for key in my_dict:\n",
    "    print(key, my_dict[key])\n",
    "\n",
    "#loop over keys:\n",
    "for key in my_dict.keys():\n",
    "    print(key)\n",
    "\n",
    "#loop over values:\n",
    "for value in my_dict.values():\n",
    "    print(value)\n",
    "\n",
    "#loop over keys and values:\n",
    "for key, value in my_dict.items():\n",
    "    print(key, value)\n"
   ]
  },
  {
   "cell_type": "code",
   "execution_count": 10,
   "metadata": {},
   "outputs": [
    {
     "name": "stdout",
     "output_type": "stream",
     "text": [
      "{'name': 'Alex', 'age': 22, 'city': 'Boston'}\n"
     ]
    }
   ],
   "source": [
    "#merge two dictionaries\n",
    "# use the update() method\n",
    "my_dict = {'name': 'Tom', 'age': 26, 'city': 'Hai Duong'}\n",
    "my_dict_2 = dict(name='Alex', age=22, city = 'Boston')\n",
    "my_dict.update(my_dict_2)\n",
    "print(my_dict)"
   ]
  },
  {
   "cell_type": "code",
   "execution_count": 11,
   "metadata": {},
   "outputs": [
    {
     "name": "stdout",
     "output_type": "stream",
     "text": [
      "{'dictA': {'name': 'Max', 'age': 28}, 'dictB': {'name': 'Alex', 'age': 25}}\n"
     ]
    }
   ],
   "source": [
    "#nested dictionaries\n",
    "my_dict_1 = {\"name\": \"Max\", \"age\": 28}\n",
    "my_dict_2 = {\"name\": \"Alex\", \"age\": 25}\n",
    "nested_dict = {\"dictA\": my_dict_1,\n",
    "               \"dictB\": my_dict_2}\n",
    "print(nested_dict)"
   ]
  }
 ],
 "metadata": {
  "interpreter": {
   "hash": "a4097ea469f529610c79da385b8acfe83e275e6495d745e16ebcedfc416ee6a7"
  },
  "kernelspec": {
   "display_name": "Python 3.8.5 ('base')",
   "language": "python",
   "name": "python3"
  },
  "language_info": {
   "codemirror_mode": {
    "name": "ipython",
    "version": 3
   },
   "file_extension": ".py",
   "mimetype": "text/x-python",
   "name": "python",
   "nbconvert_exporter": "python",
   "pygments_lexer": "ipython3",
   "version": "3.8.5"
  },
  "orig_nbformat": 4
 },
 "nbformat": 4,
 "nbformat_minor": 2
}
