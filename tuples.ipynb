{
 "cells": [
  {
   "cell_type": "markdown",
   "metadata": {},
   "source": [
    "Tuple: ordered and immutable. \n",
    "\n",
    "Created with round brackets and comma seperated values\n",
    "\n",
    "Advantages of tuple (over list)\n",
    "- Use tuple for heterogenerous (different) datatypes, list for homogeneous (similar) datatypes\n",
    "- Tuple are immutable >> iterating through tuple is slightly faster than with list.\n",
    "- Tuples with their immutable elements can be used as key for a dictionary. This is not possible with lists."
   ]
  },
  {
   "cell_type": "code",
   "execution_count": 2,
   "metadata": {},
   "outputs": [
    {
     "name": "stdout",
     "output_type": "stream",
     "text": [
      "('T', 26, 'Hai Duong')\n",
      "('H', 25, 'Hanoi')\n",
      "(25,)\n"
     ]
    }
   ],
   "source": [
    "#create a tuple\n",
    "tuple_1 = (\"T\", 26, \"Hai Duong\")\n",
    "tuple_2 = \"H\", 25, \"Hanoi\" \n",
    "tuple_3 = (25,) #special case: a tuple with only one element needs to have a comma at the end\n",
    "print(tuple_1)\n",
    "print(tuple_2)\n",
    "print(tuple_3)"
   ]
  },
  {
   "cell_type": "code",
   "execution_count": 3,
   "metadata": {},
   "outputs": [
    {
     "name": "stdout",
     "output_type": "stream",
     "text": [
      "(1, 2, 3)\n"
     ]
    }
   ],
   "source": [
    "#convert an iterable \n",
    "tuple_4 = tuple([1,2,3])\n",
    "print(tuple_4)"
   ]
  },
  {
   "cell_type": "code",
   "execution_count": 4,
   "metadata": {},
   "outputs": [
    {
     "name": "stdout",
     "output_type": "stream",
     "text": [
      "T\n",
      "Hai Duong\n"
     ]
    }
   ],
   "source": [
    "#access elements \n",
    "item = tuple_1[0]\n",
    "print(item)\n",
    "\n",
    "item = tuple_1[-1]\n",
    "print(item)"
   ]
  },
  {
   "cell_type": "code",
   "execution_count": 5,
   "metadata": {},
   "outputs": [
    {
     "ename": "TypeError",
     "evalue": "'tuple' object does not support item assignment",
     "output_type": "error",
     "traceback": [
      "\u001b[1;31m---------------------------------------------------------------------------\u001b[0m",
      "\u001b[1;31mTypeError\u001b[0m                                 Traceback (most recent call last)",
      "\u001b[1;32m<ipython-input-5-e0001c2fdc1b>\u001b[0m in \u001b[0;36m<module>\u001b[1;34m\u001b[0m\n\u001b[0;32m      1\u001b[0m \u001b[1;31m#Add or change items\u001b[0m\u001b[1;33m\u001b[0m\u001b[1;33m\u001b[0m\u001b[1;33m\u001b[0m\u001b[0m\n\u001b[1;32m----> 2\u001b[1;33m \u001b[0mtuple_1\u001b[0m\u001b[1;33m[\u001b[0m\u001b[1;36m2\u001b[0m\u001b[1;33m]\u001b[0m \u001b[1;33m=\u001b[0m \u001b[1;34m\"Boston\"\u001b[0m\u001b[1;33m\u001b[0m\u001b[1;33m\u001b[0m\u001b[0m\n\u001b[0m",
      "\u001b[1;31mTypeError\u001b[0m: 'tuple' object does not support item assignment"
     ]
    }
   ],
   "source": [
    "#Add or change items \n",
    "tuple_1[2] = \"Boston\""
   ]
  },
  {
   "cell_type": "code",
   "execution_count": 6,
   "metadata": {},
   "outputs": [],
   "source": [
    "#delete a tuple \n",
    "del tuple_2"
   ]
  },
  {
   "cell_type": "code",
   "execution_count": 7,
   "metadata": {},
   "outputs": [
    {
     "ename": "NameError",
     "evalue": "name 'tuple_2' is not defined",
     "output_type": "error",
     "traceback": [
      "\u001b[1;31m---------------------------------------------------------------------------\u001b[0m",
      "\u001b[1;31mNameError\u001b[0m                                 Traceback (most recent call last)",
      "\u001b[1;32m<ipython-input-7-ed3d28a2c3de>\u001b[0m in \u001b[0;36m<module>\u001b[1;34m\u001b[0m\n\u001b[1;32m----> 1\u001b[1;33m \u001b[0mtuple_2\u001b[0m\u001b[1;33m\u001b[0m\u001b[1;33m\u001b[0m\u001b[0m\n\u001b[0m",
      "\u001b[1;31mNameError\u001b[0m: name 'tuple_2' is not defined"
     ]
    }
   ],
   "source": [
    "tuple_2"
   ]
  },
  {
   "cell_type": "code",
   "execution_count": 8,
   "metadata": {},
   "outputs": [
    {
     "name": "stdout",
     "output_type": "stream",
     "text": [
      "T\n",
      "26\n",
      "Hai Duong\n"
     ]
    }
   ],
   "source": [
    "# iterating \n",
    "for i in tuple_1:\n",
    "    print(i)"
   ]
  },
  {
   "cell_type": "markdown",
   "metadata": {},
   "source": [
    "Methods"
   ]
  },
  {
   "cell_type": "code",
   "execution_count": 14,
   "metadata": {},
   "outputs": [
    {
     "name": "stdout",
     "output_type": "stream",
     "text": [
      "5\n",
      "2\n",
      "2\n",
      "('a', 'b', 'a', 'b', 'a', 'b', 'a', 'b', 'a', 'b')\n"
     ]
    }
   ],
   "source": [
    "my_tuple = ('h', 'e','l','l','o')\n",
    "#len(): get the number of elements in a tuple\n",
    "print(len(my_tuple))\n",
    "#count(x): return the number of items that is equal to x \n",
    "print(my_tuple.count('l'))\n",
    "#index(x): return index of first item that is equal to x\n",
    "print(my_tuple.index('l'))\n",
    "#repetition \n",
    "my_tuple = ('a', 'b')*5 \n",
    "print(my_tuple)"
   ]
  },
  {
   "cell_type": "code",
   "execution_count": 15,
   "metadata": {},
   "outputs": [
    {
     "name": "stdout",
     "output_type": "stream",
     "text": [
      "(1, 2, 3, 4, 5, 6)\n"
     ]
    }
   ],
   "source": [
    "#concatenation \n",
    "my_tuple = (1,2,3)+ (4,5,6)\n",
    "print(my_tuple)"
   ]
  },
  {
   "cell_type": "code",
   "execution_count": 16,
   "metadata": {},
   "outputs": [
    {
     "name": "stdout",
     "output_type": "stream",
     "text": [
      "('a', 'b', 'c')\n"
     ]
    }
   ],
   "source": [
    "#convert list to a tuple \n",
    "my_list = ['a','b','c']\n",
    "list_to_tuple = tuple(my_list)\n",
    "print(list_to_tuple)\n"
   ]
  },
  {
   "cell_type": "code",
   "execution_count": 17,
   "metadata": {},
   "outputs": [
    {
     "name": "stdout",
     "output_type": "stream",
     "text": [
      "('h', 'e', 'l', 'l', 'o')\n"
     ]
    }
   ],
   "source": [
    "#convert string to tuple \n",
    "string_to_tuple = tuple(\"hello\")\n",
    "print(string_to_tuple)"
   ]
  },
  {
   "cell_type": "code",
   "execution_count": 18,
   "metadata": {},
   "outputs": [
    {
     "name": "stdout",
     "output_type": "stream",
     "text": [
      "T\n",
      "26\n",
      "Hai Duong\n"
     ]
    }
   ],
   "source": [
    "#Unpack tuple \n",
    "tuple_1 = (\"T\", 26, \"Hai Duong\")\n",
    "name, age, city = tuple_1\n",
    "print(name)\n",
    "print(age)\n",
    "print(city)\n"
   ]
  },
  {
   "cell_type": "code",
   "execution_count": 19,
   "metadata": {},
   "outputs": [
    {
     "name": "stdout",
     "output_type": "stream",
     "text": [
      "((0, 1), ('age', 'height'))\n",
      "(0, 1)\n"
     ]
    }
   ],
   "source": [
    "#Nested tuples\n",
    "#Tuples can contain other tuples \n",
    "a = ((0,1), ('age','height'))\n",
    "print(a)\n",
    "print(a[0])"
   ]
  },
  {
   "cell_type": "markdown",
   "metadata": {},
   "source": [
    "Compare tuple and list"
   ]
  },
  {
   "cell_type": "code",
   "execution_count": 20,
   "metadata": {},
   "outputs": [
    {
     "name": "stdout",
     "output_type": "stream",
     "text": [
      "96 bytes\n",
      "80 bytes\n"
     ]
    }
   ],
   "source": [
    "#Compare the size\n",
    "import sys\n",
    "my_list = [0,1,2 ,\"hi\", True]\n",
    "my_tuple = (0,1,2, \"hi\", True)\n",
    "print(sys.getsizeof(my_list), 'bytes')\n",
    "print(sys.getsizeof(my_tuple), 'bytes')"
   ]
  },
  {
   "cell_type": "code",
   "execution_count": 21,
   "metadata": {},
   "outputs": [
    {
     "name": "stdout",
     "output_type": "stream",
     "text": [
      "0.13589039999988017\n",
      "0.02443619999985458\n"
     ]
    }
   ],
   "source": [
    "#compare the execution time\n",
    "import timeit\n",
    "print(timeit.timeit(stmt=\"[0,1,2,3,4,5]\", number = 1000000))\n",
    "print(timeit.timeit(stmt=\"(0,1,2,3,4,5)\", number = 1000000))"
   ]
  }
 ],
 "metadata": {
  "interpreter": {
   "hash": "2b96ed9fb20e69fa601e44be10b0d2b6c76c7b5f513b6ebbf12b0e567cd5c7fa"
  },
  "kernelspec": {
   "display_name": "Python 3.8.10 64-bit (windows store)",
   "language": "python",
   "name": "python3"
  },
  "language_info": {
   "codemirror_mode": {
    "name": "ipython",
    "version": 3
   },
   "file_extension": ".py",
   "mimetype": "text/x-python",
   "name": "python",
   "nbconvert_exporter": "python",
   "pygments_lexer": "ipython3",
   "version": "3.8.5"
  },
  "orig_nbformat": 4
 },
 "nbformat": 4,
 "nbformat_minor": 2
}
