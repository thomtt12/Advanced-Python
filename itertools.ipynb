{
 "cells": [
  {
   "cell_type": "markdown",
   "metadata": {},
   "source": [
    "- itertools module is a collection of tools for handling iterators\n",
    "- iterators are data types that can be used in a for loop\n",
    "- the most common iterator in Python is the list."
   ]
  },
  {
   "cell_type": "markdown",
   "metadata": {},
   "source": [
    "#### product()\n",
    "- This tool computes the cartesian product of input iterables.\n",
    "- It is equivalent to nested for-loops. "
   ]
  },
  {
   "cell_type": "code",
   "execution_count": 3,
   "metadata": {},
   "outputs": [
    {
     "name": "stdout",
     "output_type": "stream",
     "text": [
      "[(1, 3), (1, 4), (2, 3), (2, 4)]\n"
     ]
    }
   ],
   "source": [
    "# For example, product(A, B) returns the same as ((x,y) for x in A for y in B).\n",
    "from itertools import product\n",
    "prod = product([1,2], [3,4])\n",
    "print(list(prod))\n"
   ]
  },
  {
   "cell_type": "code",
   "execution_count": 2,
   "metadata": {},
   "outputs": [
    {
     "name": "stdout",
     "output_type": "stream",
     "text": [
      "[(1, 3, 1, 3), (1, 3, 2, 3), (2, 3, 1, 3), (2, 3, 2, 3)]\n"
     ]
    }
   ],
   "source": [
    "prod = product([1,2], [3], repeat=2)\n",
    "print(list(prod))"
   ]
  },
  {
   "cell_type": "markdown",
   "metadata": {},
   "source": [
    "#### permutations()"
   ]
  },
  {
   "cell_type": "markdown",
   "metadata": {},
   "source": [
    "This tool returns successive length permutations of elements in an iterable, with all possible orderings, and no repeated elements."
   ]
  },
  {
   "cell_type": "code",
   "execution_count": 4,
   "metadata": {},
   "outputs": [
    {
     "name": "stdout",
     "output_type": "stream",
     "text": [
      "[(1, 2, 3), (1, 3, 2), (2, 1, 3), (2, 3, 1), (3, 1, 2), (3, 2, 1)]\n",
      "[(1, 2), (1, 3), (2, 1), (2, 3), (3, 1), (3, 2)]\n"
     ]
    }
   ],
   "source": [
    "from itertools import permutations\n",
    "perm = permutations([1, 2, 3])\n",
    "print(list(perm))\n",
    "# optional: the length of the permutation tuples\n",
    "perm = permutations([1, 2, 3], 2)\n",
    "print(list(perm))"
   ]
  },
  {
   "cell_type": "markdown",
   "metadata": {},
   "source": [
    "#### combinations() and combinations_with_replacement()"
   ]
  },
  {
   "cell_type": "markdown",
   "metadata": {},
   "source": [
    "r-length tuples, in sorted order. So, if the input iterable is sorted, the combination tuples will be produced in sorted order. combinations() does not allow repeated elements, but combinationswithreplacement() does."
   ]
  },
  {
   "cell_type": "code",
   "execution_count": 5,
   "metadata": {},
   "outputs": [
    {
     "name": "stdout",
     "output_type": "stream",
     "text": [
      "[(1, 2), (1, 3), (1, 4), (2, 3), (2, 4), (3, 4)]\n",
      "[(1, 1), (1, 2), (1, 3), (1, 4), (2, 2), (2, 3), (2, 4), (3, 3), (3, 4), (4, 4)]\n"
     ]
    }
   ],
   "source": [
    "from itertools import combinations, combinations_with_replacement\n",
    "\n",
    "# the second argument is mandatory and specifies the length of the output tuples.\n",
    "comb = combinations([1, 2, 3, 4], 2)\n",
    "print(list(comb))\n",
    "\n",
    "comb = combinations_with_replacement([1, 2, 3, 4], 2)\n",
    "print(list(comb))"
   ]
  },
  {
   "cell_type": "markdown",
   "metadata": {},
   "source": [
    "#### accumulate()\n",
    "Make an iterator that returns accumulated sums, or accumulated results of other binary functions."
   ]
  },
  {
   "cell_type": "code",
   "execution_count": 6,
   "metadata": {},
   "outputs": [
    {
     "name": "stdout",
     "output_type": "stream",
     "text": [
      "[1, 3, 6, 10]\n"
     ]
    }
   ],
   "source": [
    "from itertools import accumulate\n",
    "#return accumulated sums\n",
    "acc = accumulate([1, 2, 3, 4])\n",
    "print(list(acc))\n"
   ]
  },
  {
   "cell_type": "code",
   "execution_count": 7,
   "metadata": {},
   "outputs": [
    {
     "name": "stdout",
     "output_type": "stream",
     "text": [
      "[1, 2, 6, 24]\n",
      "[1, 5, 5, 6, 6, 6]\n"
     ]
    }
   ],
   "source": [
    "import operator\n",
    "acc = accumulate([1, 2, 3, 4], func = operator.mul)\n",
    "print(list(acc))\n",
    "\n",
    "acc = accumulate([1, 5, 2, 6, 3, 4], func = max)\n",
    "print(list(acc))\n"
   ]
  },
  {
   "cell_type": "markdown",
   "metadata": {},
   "source": [
    "#### groupby()\n",
    "- Make an iterator that returns consecutive keys and groups from the iterable. \n",
    "- The key is a function computing a key value for each element. If not specified or is None, key defaults to an identity function and returns the element unchanged. "
   ]
  },
  {
   "cell_type": "code",
   "execution_count": 8,
   "metadata": {},
   "outputs": [],
   "source": [
    "from itertools import groupby\n",
    "\n",
    "def smaller_than_3(x):\n",
    "    return x < 3"
   ]
  },
  {
   "cell_type": "code",
   "execution_count": 9,
   "metadata": {},
   "outputs": [
    {
     "name": "stdout",
     "output_type": "stream",
     "text": [
      "True [1, 2]\n",
      "False [3, 4]\n"
     ]
    }
   ],
   "source": [
    "group_obj = groupby([1,2,3,4], key=smaller_than_3)\n",
    "for key, group in group_obj:\n",
    "    print(key, list(group))\n",
    "    "
   ]
  },
  {
   "cell_type": "code",
   "execution_count": 10,
   "metadata": {},
   "outputs": [
    {
     "name": "stdout",
     "output_type": "stream",
     "text": [
      "True ['hi', 'nice']\n",
      "False ['hello', 'cool']\n"
     ]
    }
   ],
   "source": [
    "# use a lamda expression, e.g. words with an 'i':\n",
    "group_obj = groupby([\"hi\", \"nice\", \"hello\", \"cool\"], key=lambda x: \"i\" in x)\n",
    "for key, group in group_obj:\n",
    "    print(key, list(group))\n"
   ]
  },
  {
   "cell_type": "code",
   "execution_count": 13,
   "metadata": {},
   "outputs": [
    {
     "name": "stdout",
     "output_type": "stream",
     "text": [
      "True ['hello']\n",
      "False ['my']\n",
      "True ['name']\n",
      "False ['is']\n"
     ]
    }
   ],
   "source": [
    "group_obj = groupby([\"hello\",\"my\", \"name\",\"is\"], key=lambda x: \"e\" in x)\n",
    "for (key, group) in group_obj:\n",
    "    print(key, list(group))"
   ]
  },
  {
   "cell_type": "code",
   "execution_count": 14,
   "metadata": {},
   "outputs": [
    {
     "name": "stdout",
     "output_type": "stream",
     "text": [
      "20 [{'name': 'A', 'age': 20}]\n",
      "21 [{'name': 'B', 'age': 21}]\n",
      "22 [{'name': 'C', 'age': 22}]\n"
     ]
    }
   ],
   "source": [
    "person = [{'name':'A', 'age':20}, {'name':'B','age':21}, {'name':'C', 'age':22}]\n",
    "group_obj = groupby(person, key=lambda x: x['age'])\n",
    "for key, group in group_obj:\n",
    "    print(key, list(group))"
   ]
  },
  {
   "cell_type": "markdown",
   "metadata": {},
   "source": [
    "#### Infinite iterators: count(), cycle(), repeat()\n"
   ]
  },
  {
   "cell_type": "code",
   "execution_count": 16,
   "metadata": {},
   "outputs": [],
   "source": [
    "from itertools import count, cycle, repeat"
   ]
  },
  {
   "cell_type": "code",
   "execution_count": 19,
   "metadata": {},
   "outputs": [
    {
     "name": "stdout",
     "output_type": "stream",
     "text": [
      "10\n",
      "11\n",
      "12\n",
      "13\n"
     ]
    }
   ],
   "source": [
    "# count(x): count from x: x, x+1, x+2, x+3...\n",
    "for i in count(10):\n",
    "    print(i)\n",
    "    if i >= 13:\n",
    "        break"
   ]
  },
  {
   "cell_type": "code",
   "execution_count": 20,
   "metadata": {},
   "outputs": [
    {
     "name": "stdout",
     "output_type": "stream",
     "text": [
      "\n",
      "1\n",
      "2\n",
      "3\n",
      "1\n",
      "2\n",
      "3\n"
     ]
    }
   ],
   "source": [
    "#cycle(iterable): cycle infinitely through an iterable\n",
    "print(\"\")\n",
    "sum = 0 \n",
    "for i in cycle([1, 2, 3]):\n",
    "    print(i)\n",
    "    sum += i\n",
    "    if sum >= 12:\n",
    "        break"
   ]
  },
  {
   "cell_type": "code",
   "execution_count": 21,
   "metadata": {},
   "outputs": [
    {
     "name": "stdout",
     "output_type": "stream",
     "text": [
      "\n",
      "A\n",
      "A\n",
      "A\n"
     ]
    }
   ],
   "source": [
    "#repeat(x): repeat x infinitely or n times\n",
    "print(\"\")\n",
    "for i in repeat(\"A\", 3):\n",
    "    print(i)"
   ]
  },
  {
   "cell_type": "code",
   "execution_count": null,
   "metadata": {},
   "outputs": [],
   "source": []
  }
 ],
 "metadata": {
  "kernelspec": {
   "display_name": "Python 3.8.5 ('base')",
   "language": "python",
   "name": "python3"
  },
  "language_info": {
   "codemirror_mode": {
    "name": "ipython",
    "version": 3
   },
   "file_extension": ".py",
   "mimetype": "text/x-python",
   "name": "python",
   "nbconvert_exporter": "python",
   "pygments_lexer": "ipython3",
   "version": "3.8.5"
  },
  "orig_nbformat": 4,
  "vscode": {
   "interpreter": {
    "hash": "9cd9301c5e71a82283eb7f50953f410c8e55a849d4a6f54bedda3cdfdad6099a"
   }
  }
 },
 "nbformat": 4,
 "nbformat_minor": 2
}
