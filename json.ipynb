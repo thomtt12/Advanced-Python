{
 "cells": [
  {
   "cell_type": "markdown",
   "metadata": {},
   "source": [
    "- JSON (JavaScript Object Notation) is a lightweight data format for data exchange\n",
    "- Using built-in json module for encoding and decoding JSON data\n",
    "#### Advantages of JSON\n",
    "- JSON exists as a \"sequence of bytes\" which is very useful in the case we need to transmit (stream) data over a network. \n",
    "- Compared to XML, JSON is much smaller, translating into faster data transfers, and better experiences\n",
    "- JSON is extremely human-friendly since it is textual, and simultaneously machine-friendly.\n",
    "\n",
    "Tham khảo: https://docs.python.org/3/library/json.html\n"
   ]
  },
  {
   "cell_type": "markdown",
   "metadata": {},
   "source": [
    "#### From Python to JSON (Serialization, Encode)"
   ]
  },
  {
   "cell_type": "code",
   "execution_count": 2,
   "metadata": {},
   "outputs": [
    {
     "name": "stdout",
     "output_type": "stream",
     "text": [
      "{\"name\": \"John\", \"age\": 30, \"city\": \"NY\", \"hasChildren\": false}\n"
     ]
    }
   ],
   "source": [
    "#Convert Python objects into a JSON string with the json.dumps() method\n",
    "import json \n",
    "person = {\"name\":\"John\", \"age\":30, \"city\": \"NY\", \"hasChildren\": False}\n",
    "\n",
    "# convert into JSON:\n",
    "person_json = json.dumps(person)\n",
    "print(person_json)\n"
   ]
  },
  {
   "cell_type": "code",
   "execution_count": 3,
   "metadata": {},
   "outputs": [
    {
     "name": "stdout",
     "output_type": "stream",
     "text": [
      "{\n",
      "    \"age\"=30;\n",
      "    \"city\"=\"NY\";\n",
      "    \"hasChildren\"=false;\n",
      "    \"name\"=\"John\"\n",
      "}\n"
     ]
    }
   ],
   "source": [
    "# use different formatting  style\n",
    "person_json2 = json.dumps(person, indent =4, separators = (\";\",\"=\"), sort_keys = True)\n",
    "print(person_json2)\n"
   ]
  },
  {
   "cell_type": "code",
   "execution_count": 4,
   "metadata": {},
   "outputs": [],
   "source": [
    "#Convert Python objects into a JSON objects and save them into a file with the json.dump() method\n",
    "person = {\"name\":\"John\", \"age\":30, \"city\": \"NY\", \"hasChildren\": False}\n",
    "\n",
    "with open('person.json', 'w') as f:\n",
    "    json.dump(person, f)"
   ]
  },
  {
   "cell_type": "markdown",
   "metadata": {},
   "source": [
    "#### From JSON to Python (Deserialization, Decode)"
   ]
  },
  {
   "cell_type": "code",
   "execution_count": 6,
   "metadata": {},
   "outputs": [
    {
     "name": "stdout",
     "output_type": "stream",
     "text": [
      "{'age': 30, 'city': 'NY', 'hasChildren': False, 'name': 'John'}\n"
     ]
    }
   ],
   "source": [
    "import json \n",
    "person_json = \"\"\"\n",
    "{\n",
    "    \"age\":30,\n",
    "    \"city\":\"NY\",\n",
    "    \"hasChildren\":false,\n",
    "    \"name\":\"John\"\n",
    "}\n",
    "\"\"\"\n",
    "person = json.loads(person_json)\n",
    "print(person)"
   ]
  },
  {
   "cell_type": "code",
   "execution_count": 7,
   "metadata": {},
   "outputs": [
    {
     "name": "stdout",
     "output_type": "stream",
     "text": [
      "{'name': 'John', 'age': 30, 'city': 'NY', 'hasChildren': False}\n"
     ]
    }
   ],
   "source": [
    "#load datafrom a file and convert it to a Python object with the json.load() method\n",
    "import json\n",
    "\n",
    "with open('person.json', 'r') as f:\n",
    "    person = json.load(f)\n",
    "    print(person)"
   ]
  },
  {
   "cell_type": "markdown",
   "metadata": {},
   "source": [
    "#### Encoding a custom object\n"
   ]
  },
  {
   "cell_type": "code",
   "execution_count": 8,
   "metadata": {},
   "outputs": [
    {
     "name": "stdout",
     "output_type": "stream",
     "text": [
      "{\"complex\": true, \"real\": 5.0, \"imag\": 9.0}\n"
     ]
    }
   ],
   "source": [
    "# default JSONEncoder >> raise a TypeError\n",
    "import json \n",
    "def encode_complex(z):\n",
    "    if isinstance(z, complex):\n",
    "        return {z.__class__.__name__: True, \"real\": z.real, \"imag\":z.imag}\n",
    "    else:\n",
    "        raise TypeError(f\"Object of type '{z.__class__.__name__}' is not JSON serializable\")\n",
    "\n",
    "z = 5 +9j\n",
    "zJSON = json.dumps(z, default=encode_complex)\n",
    "print(zJSON)\n"
   ]
  },
  {
   "cell_type": "code",
   "execution_count": 9,
   "metadata": {},
   "outputs": [
    {
     "name": "stdout",
     "output_type": "stream",
     "text": [
      "{\"complex\": true, \"real\": 5.0, \"imag\": 9.0}\n",
      "{\"complex\": true, \"real\": 5.0, \"imag\": 9.0}\n"
     ]
    }
   ],
   "source": [
    "# create a custom Encoder class, and overwrite the default() method\n",
    "from json import JSONEncoder\n",
    "class ComplexEncoder(JSONEncoder):\n",
    "    \n",
    "    def default(self, o):\n",
    "        if isinstance(z, complex):\n",
    "            return {z.__class__.__name__: True, \"real\":z.real, \"imag\":z.imag}\n",
    "        # Let the base class default method handle other objects or raise a TypeError\n",
    "        return JSONEncoder.default(self, o)\n",
    "    \n",
    "z = 5 + 9j\n",
    "zJSON = json.dumps(z, cls=ComplexEncoder)\n",
    "print(zJSON)\n",
    "# or use encoder directly:\n",
    "zJson = ComplexEncoder().encode(z)\n",
    "print(zJSON)"
   ]
  },
  {
   "cell_type": "markdown",
   "metadata": {},
   "source": [
    "#### Decoding\n",
    "- Sử dụng JSONDecoder mặc định, decode thành dictionary\n"
   ]
  },
  {
   "cell_type": "code",
   "execution_count": 10,
   "metadata": {},
   "outputs": [
    {
     "name": "stdout",
     "output_type": "stream",
     "text": [
      "<class 'dict'>\n",
      "{'complex': True, 'real': 5.0, 'imag': 9.0}\n",
      "<class 'complex'>\n",
      "(5+9j)\n"
     ]
    }
   ],
   "source": [
    "# Possible but decoded as a dictionary\n",
    "z = json.loads(zJSON)\n",
    "print(type(z))\n",
    "print(z)\n",
    "\n",
    "def decode_complex(dct): # đầu vào là 1 từ điển\n",
    "    if complex.__name__ in dct:  #tạo đối tượng nếu tìm thấy tên lớp đối tượng trong từ điển\n",
    "        return complex(dct[\"real\"], dct[\"imag\"])\n",
    "    return dct\n",
    "\n",
    "# Now the object is of type complex after decoding\n",
    "z = json.loads(zJSON, object_hook=decode_complex) #sử dụng hàm này cho đối số object_hook\n",
    "print(type(z))\n",
    "print(z)"
   ]
  },
  {
   "cell_type": "code",
   "execution_count": 11,
   "metadata": {},
   "outputs": [
    {
     "name": "stdout",
     "output_type": "stream",
     "text": [
      "{\n",
      "    \"__class__\": \"User\",\n",
      "    \"__module__\": \"__main__\",\n",
      "    \"active\": true,\n",
      "    \"age\": 28,\n",
      "    \"balance\": 20.7,\n",
      "    \"friends\": [\n",
      "        \"Jane\",\n",
      "        \"Tom\"\n",
      "    ],\n",
      "    \"name\": \"John\"\n",
      "}\n",
      "<class '__main__.User'>\n",
      "{\n",
      "    \"__class__\": \"Player\",\n",
      "    \"__module__\": \"__main__\",\n",
      "    \"level\": 5,\n",
      "    \"name\": \"Max\",\n",
      "    \"nickname\": \"max1234\"\n",
      "}\n",
      "<class '__main__.Player'>\n"
     ]
    }
   ],
   "source": [
    "#Template encode and decode functions\n",
    "class User:\n",
    "    # Custom class with all class variables given in the __init__()\n",
    "    def __init__(self, name, age, active, balance, friends):\n",
    "        self.name = name\n",
    "        self.age = age\n",
    "        self.active = active\n",
    "        self.balance = balance\n",
    "        self.friends = friends\n",
    "        \n",
    "class Player:\n",
    "    # Other custom class\n",
    "    def __init__(self, name, nickname, level):\n",
    "        self.name = name\n",
    "        self.nickname = nickname\n",
    "        self.level = level\n",
    "          \n",
    "            \n",
    "def encode_obj(obj):\n",
    "    \"\"\"\n",
    "    Takes in a custom object and returns a dictionary representation of the object.\n",
    "    This dict representation also includes the object's module and class names.\n",
    "    \"\"\"\n",
    "  \n",
    "    #  Populate the dictionary with object meta data \n",
    "    obj_dict = {\n",
    "      \"__class__\": obj.__class__.__name__,\n",
    "      \"__module__\": obj.__module__\n",
    "    }\n",
    "  \n",
    "    #  Populate the dictionary with object properties\n",
    "    obj_dict.update(obj.__dict__)\n",
    "  \n",
    "    return obj_dict\n",
    "\n",
    "\n",
    "def decode_dct(dct):\n",
    "    \"\"\"\n",
    "    Takes in a dict and returns a custom object associated with the dict.\n",
    "    It makes use of the \"__module__\" and \"__class__\" metadata in the dictionary\n",
    "    to know which object type to create.\n",
    "    \"\"\"\n",
    "    if \"__class__\" in dct:\n",
    "        # Pop ensures we remove metadata from the dict to leave only the instance arguments\n",
    "        class_name = dct.pop(\"__class__\")\n",
    "        \n",
    "        # Get the module name from the dict and import it\n",
    "        module_name = dct.pop(\"__module__\")\n",
    "        \n",
    "        # We use the built in __import__ function since the module name is not yet known at runtime\n",
    "        module = __import__(module_name)\n",
    "        \n",
    "        # Get the class from the module\n",
    "        class_ = getattr(module,class_name)\n",
    "\n",
    "        # Use dictionary unpacking to initialize the object\n",
    "        # Note: This only works if all __init__() arguments of the class are exactly the dict keys\n",
    "        obj = class_(**dct)\n",
    "    else:\n",
    "        obj = dct\n",
    "    return obj\n",
    "\n",
    "# User class works with our encoding and decoding methods\n",
    "user = User(name = \"John\",age = 28, friends = [\"Jane\", \"Tom\"], balance = 20.70, active = True)\n",
    "\n",
    "userJSON = json.dumps(user,default=encode_obj,indent=4, sort_keys=True)\n",
    "print(userJSON)\n",
    "\n",
    "user_decoded = json.loads(userJSON, object_hook=decode_dct)\n",
    "print(type(user_decoded))\n",
    "\n",
    "# Player class also works with our custom encoding and decoding\n",
    "player = Player('Max', 'max1234', 5)\n",
    "playerJSON = json.dumps(player,default=encode_obj,indent=4, sort_keys=True)\n",
    "print(playerJSON)\n",
    "\n",
    "player_decoded = json.loads(playerJSON, object_hook=decode_dct)\n",
    "print(type(player_decoded))"
   ]
  },
  {
   "cell_type": "code",
   "execution_count": null,
   "metadata": {},
   "outputs": [],
   "source": []
  }
 ],
 "metadata": {
  "kernelspec": {
   "display_name": "Python 3.8.5 ('base')",
   "language": "python",
   "name": "python3"
  },
  "language_info": {
   "codemirror_mode": {
    "name": "ipython",
    "version": 3
   },
   "file_extension": ".py",
   "mimetype": "text/x-python",
   "name": "python",
   "nbconvert_exporter": "python",
   "pygments_lexer": "ipython3",
   "version": "3.8.5"
  },
  "orig_nbformat": 4,
  "vscode": {
   "interpreter": {
    "hash": "9cd9301c5e71a82283eb7f50953f410c8e55a849d4a6f54bedda3cdfdad6099a"
   }
  }
 },
 "nbformat": 4,
 "nbformat_minor": 2
}
