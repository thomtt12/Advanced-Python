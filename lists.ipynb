{
 "cells": [
  {
   "cell_type": "markdown",
   "metadata": {},
   "source": [
    "Comparison of basic built-in collection data types in Python\n",
    "- List is a collection which is ordered and mutable. Allows duplicate members. Created with square brackets \n",
    "- Tuple is a collection which is ordered and immutable. Allows duplicate members.\n",
    "- Set is a collection which is unordered and unindexed. No duplicate members.\n",
    "- Dictionary is a collection which is unordered, mutable and indexed. No duplicate members.\n",
    "- Strings are immutable sequences of Unicode code points.\n"
   ]
  },
  {
   "cell_type": "code",
   "execution_count": 4,
   "metadata": {},
   "outputs": [
    {
     "name": "stdout",
     "output_type": "stream",
     "text": [
      "['banana', 'cherry', 'apple']\n",
      "[]\n",
      "[1, False, 'banana']\n",
      "[0, 1, 0, 1]\n"
     ]
    }
   ],
   "source": [
    "#creating a list \n",
    "list_1 = [\"banana\", \"cherry\", \"apple\"]\n",
    "print(list_1)\n",
    "\n",
    "#create an empty list with the list function \n",
    "list_2 = list()\n",
    "print(list_2)\n",
    "\n",
    "#lists allow different data types\n",
    "list_3 = [1, False, \"banana\"]\n",
    "print(list_3)\n",
    "\n",
    "#lists allow duplicates\n",
    "list_4 = [0, 1, 0, 1]\n",
    "print(list_4)"
   ]
  },
  {
   "cell_type": "code",
   "execution_count": 6,
   "metadata": {},
   "outputs": [
    {
     "name": "stdout",
     "output_type": "stream",
     "text": [
      "banana\n",
      "apple\n"
     ]
    }
   ],
   "source": [
    "#Access elements \n",
    "item = list_1[0]\n",
    "print(item)\n",
    "\n",
    "# can use negative indexing\n",
    "item = list_1[-1]\n",
    "print(item)"
   ]
  },
  {
   "cell_type": "code",
   "execution_count": 9,
   "metadata": {},
   "outputs": [
    {
     "name": "stdout",
     "output_type": "stream",
     "text": [
      "['banana', 'cherry', 'avocado']\n"
     ]
    }
   ],
   "source": [
    "#change items\n",
    "#refer to the index number and assign a new value \n",
    "list_1[2] = \"avocado\"\n",
    "print(list_1)"
   ]
  },
  {
   "cell_type": "markdown",
   "metadata": {},
   "source": [
    "Methods"
   ]
  },
  {
   "cell_type": "code",
   "execution_count": 11,
   "metadata": {},
   "outputs": [
    {
     "name": "stdout",
     "output_type": "stream",
     "text": [
      "length: 3\n",
      "['banana', 'cherry', 'apple', 'orange']\n",
      "['banana', 'avocado', 'cherry', 'apple', 'orange']\n",
      "poped item:  orange\n"
     ]
    }
   ],
   "source": [
    "my_list = [\"banana\", \"cherry\", \"apple\"]\n",
    "# len(): get the number of elements in a list\n",
    "print(\"length:\", len(my_list))\n",
    "\n",
    "#append(): adds an elements to the end of the list\n",
    "my_list.append(\"orange\")\n",
    "print(my_list)\n",
    "\n",
    "#insert(): adds an elements at the specified position \n",
    "my_list.insert(1, \"avocado\")\n",
    "print(my_list)\n",
    "\n",
    "#pop(): removes and returns the item at the given position; default is the last item\n",
    "item = my_list.pop()\n",
    "print(\"poped item: \", item)"
   ]
  },
  {
   "cell_type": "code",
   "execution_count": 12,
   "metadata": {},
   "outputs": [
    {
     "name": "stdout",
     "output_type": "stream",
     "text": [
      "['banana', 'avocado', 'apple']\n"
     ]
    }
   ],
   "source": [
    "# remove() : removes an item from the list\n",
    "my_list.remove(\"cherry\") \n",
    "print(my_list)"
   ]
  },
  {
   "cell_type": "code",
   "execution_count": 13,
   "metadata": {},
   "outputs": [
    {
     "name": "stdout",
     "output_type": "stream",
     "text": [
      "[]\n"
     ]
    }
   ],
   "source": [
    "# clear() : removes all items from the list\n",
    "my_list.clear()\n",
    "print(my_list)"
   ]
  },
  {
   "cell_type": "code",
   "execution_count": 14,
   "metadata": {},
   "outputs": [
    {
     "name": "stdout",
     "output_type": "stream",
     "text": [
      "Reversed:  ['apple', 'cherry', 'banana']\n"
     ]
    }
   ],
   "source": [
    "# reverse() : reverse the items\n",
    "my_list = [\"banana\", \"cherry\", \"apple\"]\n",
    "my_list.reverse()\n",
    "print('Reversed: ', my_list)"
   ]
  },
  {
   "cell_type": "code",
   "execution_count": 15,
   "metadata": {},
   "outputs": [
    {
     "name": "stdout",
     "output_type": "stream",
     "text": [
      "Sorted:  ['apple', 'banana', 'cherry']\n"
     ]
    }
   ],
   "source": [
    "# sort() : sort items in ascending order\n",
    "my_list.sort()\n",
    "print('Sorted: ', my_list)"
   ]
  },
  {
   "cell_type": "code",
   "execution_count": 16,
   "metadata": {},
   "outputs": [],
   "source": [
    "# use sorted() to get a new list, and leave the original unaffected.\n",
    "# sorted() works on any iterable type, not just lists\n",
    "my_list = [\"banana\", \"cherry\", \"apple\"]\n",
    "new_list = sorted(my_list)"
   ]
  },
  {
   "cell_type": "code",
   "execution_count": 17,
   "metadata": {},
   "outputs": [
    {
     "name": "stdout",
     "output_type": "stream",
     "text": [
      "[0, 0, 0, 0, 0]\n"
     ]
    }
   ],
   "source": [
    "# create list with repeated elements\n",
    "list_with_zeros = [0] * 5\n",
    "print(list_with_zeros)"
   ]
  },
  {
   "cell_type": "code",
   "execution_count": 18,
   "metadata": {},
   "outputs": [
    {
     "name": "stdout",
     "output_type": "stream",
     "text": [
      "[0, 0, 0, 0, 0, 'banana', 'cherry', 'apple']\n"
     ]
    }
   ],
   "source": [
    "\n",
    "# concatenation\n",
    "list_concat = list_with_zeros + my_list\n",
    "print(list_concat)"
   ]
  },
  {
   "cell_type": "code",
   "execution_count": 19,
   "metadata": {},
   "outputs": [
    {
     "name": "stdout",
     "output_type": "stream",
     "text": [
      "['H', 'e', 'l', 'l', 'o']\n"
     ]
    }
   ],
   "source": [
    "# convert string to list\n",
    "string_to_list = list('Hello')\n",
    "print(string_to_list)"
   ]
  },
  {
   "cell_type": "code",
   "execution_count": 22,
   "metadata": {},
   "outputs": [
    {
     "name": "stdout",
     "output_type": "stream",
     "text": [
      "banana\n",
      "cherry\n",
      "avocado\n"
     ]
    }
   ],
   "source": [
    "#iterating using a for in loop\n",
    "for i in list_1:\n",
    "    print(i)\n",
    "    "
   ]
  },
  {
   "cell_type": "code",
   "execution_count": 23,
   "metadata": {},
   "outputs": [
    {
     "name": "stdout",
     "output_type": "stream",
     "text": [
      "yes\n"
     ]
    }
   ],
   "source": [
    "#check if an item exists\n",
    "if \"banana\" in list_1:\n",
    "    print(\"yes\")\n",
    "else:\n",
    "    print(\"no\")"
   ]
  },
  {
   "cell_type": "code",
   "execution_count": 24,
   "metadata": {},
   "outputs": [
    {
     "name": "stdout",
     "output_type": "stream",
     "text": [
      "[2, 3]\n",
      "[3, 4, 5, 6, 7, 8, 9, 10]\n",
      "[1, 2, 3]\n",
      "[0, 4, 5, 6, 7, 8, 9, 10]\n",
      "[0, 5, 7, 9]\n",
      "[10, 9, 8, 7, 6, 5, 4, 0]\n",
      "[10, 9, 8, 7, 6, 5, 4, 0]\n"
     ]
    }
   ],
   "source": [
    "#slicing: Access sub parts of the list wih the use of colon (:), just as with strings.\n",
    "# a[start:stop:step], default step is 1\n",
    "a = [1, 2, 3, 4, 5, 6, 7, 8, 9, 10]\n",
    "b = a[1:3] # Note that the last index is not included\n",
    "print(b)\n",
    "b = a[2:] # until the end\n",
    "print(b)\n",
    "b = a[:3] # from beginning\n",
    "print(b)\n",
    "a[0:3] = [0] # replace sub-parts, you need an iterable here\n",
    "print(a)\n",
    "b = a[::2] # start to end with every second item\n",
    "print(b)\n",
    "a = a[::-1] # reverse the list with a negative step:\n",
    "print(a)\n",
    "b = a[:] # copy a list with slicing\n",
    "print(b)"
   ]
  },
  {
   "cell_type": "code",
   "execution_count": 42,
   "metadata": {},
   "outputs": [
    {
     "name": "stdout",
     "output_type": "stream",
     "text": [
      "[1, 4, 9, 16, 25, 36, 49, 64]\n"
     ]
    }
   ],
   "source": [
    "#list comprehension \n",
    "\n",
    "a = [1, 2, 3, 4, 5, 6, 7, 8]\n",
    "b = [i*i for i in a]\n",
    "print(b)"
   ]
  },
  {
   "cell_type": "code",
   "execution_count": 43,
   "metadata": {},
   "outputs": [
    {
     "name": "stdout",
     "output_type": "stream",
     "text": [
      "[[1, 2], [3, 4]]\n",
      "[1, 2]\n"
     ]
    }
   ],
   "source": [
    "#nested lists \n",
    "a =[[1,2], [3,4]]\n",
    "print(a)\n",
    "print(a[0])\n"
   ]
  },
  {
   "cell_type": "markdown",
   "metadata": {},
   "source": [
    "### Advanced\n",
    "\n",
    "Lặp các phần tử trong list đồng thời lấy index\n"
   ]
  },
  {
   "cell_type": "code",
   "execution_count": 44,
   "metadata": {},
   "outputs": [
    {
     "name": "stdout",
     "output_type": "stream",
     "text": [
      "0: a\n",
      "1: b\n",
      "2: c\n"
     ]
    }
   ],
   "source": [
    "#junior\n",
    "x = ['a','b','c']\n",
    "counter =0 \n",
    "for e in x:\n",
    "    print('%d: %s' %(counter,e))\n",
    "    counter +=1"
   ]
  },
  {
   "cell_type": "code",
   "execution_count": 45,
   "metadata": {},
   "outputs": [
    {
     "name": "stdout",
     "output_type": "stream",
     "text": [
      "0: a\n",
      "1: b\n",
      "2: c\n"
     ]
    }
   ],
   "source": [
    "#senior\n",
    "x = ['a', 'b', 'c']\n",
    "for i, e in enumerate(x):\n",
    "    print('%d: %s' %(i ,e)) "
   ]
  },
  {
   "cell_type": "markdown",
   "metadata": {},
   "source": [
    "Enumerate() method adds a counter to an iterable and returns it in a form of enumerating object. \n",
    "\n",
    "\n",
    "Syntax:\n",
    "enumerate(iterable, start=0)"
   ]
  },
  {
   "cell_type": "code",
   "execution_count": 46,
   "metadata": {},
   "outputs": [
    {
     "name": "stdout",
     "output_type": "stream",
     "text": [
      "1: A\n",
      "2: B\n",
      "3: C\n"
     ]
    }
   ],
   "source": [
    "#Hàm enumerate() thêm vào một đếm vào trước mỗi iterable và trả về kết quả dưới dạng đối tượng liệt kê\n",
    "\n",
    "#enumerate bắt đầu mặc định với index=0 nhưng có thể thay đổi index bắt đầu của vòng lặp. \n",
    "names = ['A', 'B', 'C']\n",
    "for index, value in enumerate(names, 1):\n",
    "    # print(f'{index}: {value}') ###print(f' ') định dạng chuỗi trong python\n",
    "    print('%d: %s' %(index, value))\n",
    "    # print(index, value)"
   ]
  },
  {
   "cell_type": "markdown",
   "metadata": {},
   "source": [
    "#### Lặp từng cặp phần tử trong 2 danh sách (dùng zip)"
   ]
  },
  {
   "cell_type": "code",
   "execution_count": 47,
   "metadata": {},
   "outputs": [
    {
     "name": "stdout",
     "output_type": "stream",
     "text": [
      "0. 0 <-> a\n",
      "1. 1 <-> b\n",
      "2. 2 <-> c\n",
      "\n",
      "\n"
     ]
    }
   ],
   "source": [
    "#junior\n",
    "m = [0, 1, 2]\n",
    "n = ['a', 'b', 'c']\n",
    "\n",
    "counter = 0\n",
    "for i in range(len(m)):\n",
    "    print('%d. %d <-> %s' %(i, m[i], n[i]))\n",
    "    counter +=1\n",
    "print('\\n')"
   ]
  },
  {
   "cell_type": "code",
   "execution_count": 48,
   "metadata": {},
   "outputs": [
    {
     "name": "stdout",
     "output_type": "stream",
     "text": [
      "0. 0 <-> a\n",
      "1. 1 <-> b\n",
      "2. 2 <-> c\n"
     ]
    }
   ],
   "source": [
    "##senior\n",
    "m = [0, 1,2]\n",
    "n = ['a', 'b', 'c']\n",
    "\n",
    "for i, (mx, nx) in enumerate(zip(m,n)):\n",
    "    print('%d. %d <-> %s' % (i, mx, nx))"
   ]
  },
  {
   "cell_type": "markdown",
   "metadata": {},
   "source": [
    "#### List comprehensive\n",
    "- create a new list from an existing list\n",
    "- List comprehension consists of an expression followed by a for statement inside square brackets"
   ]
  },
  {
   "cell_type": "code",
   "execution_count": 52,
   "metadata": {},
   "outputs": [
    {
     "name": "stdout",
     "output_type": "stream",
     "text": [
      "[2, 4, 6]\n",
      "\n",
      "\n",
      "[2, 4, 6]\n"
     ]
    }
   ],
   "source": [
    "# Thay đổi mỗi phần tử trong danh sách (list comprehensive)\n",
    "\n",
    "#junior\n",
    "p = [1, 2, 3]\n",
    "for k in range(len((p))):\n",
    "    p[k] *= 2\n",
    "print(p)\n",
    "\n",
    "print('\\n')\n",
    "\n",
    "#senior (list comprehensive)\n",
    "p = [1, 2, 3]\n",
    "p = [e*2 for e in p]\n",
    "print(p)"
   ]
  },
  {
   "cell_type": "code",
   "execution_count": 54,
   "metadata": {},
   "outputs": [
    {
     "name": "stdout",
     "output_type": "stream",
     "text": [
      "\n",
      "\n",
      "[2, 4]\n"
     ]
    }
   ],
   "source": [
    "# Lọc phần tử trong danh sách\n",
    "#junior \n",
    "list_input = [1, 2, 3, 4]\n",
    "list_output = []\n",
    "for element in list_input:\n",
    "    if element %2 ==0:\n",
    "        list_output.append(element)\n",
    "print('\\n')\n",
    "\n",
    "#senior\n",
    "list_input = [1, 2, 3, 4]\n",
    "list_output = [e for e in list_input if e% 2==0]\n",
    "print(list_output)"
   ]
  },
  {
   "cell_type": "code",
   "execution_count": null,
   "metadata": {},
   "outputs": [],
   "source": []
  }
 ],
 "metadata": {
  "interpreter": {
   "hash": "a4097ea469f529610c79da385b8acfe83e275e6495d745e16ebcedfc416ee6a7"
  },
  "kernelspec": {
   "display_name": "Python 3.8.5 ('base')",
   "language": "python",
   "name": "python3"
  },
  "language_info": {
   "codemirror_mode": {
    "name": "ipython",
    "version": 3
   },
   "file_extension": ".py",
   "mimetype": "text/x-python",
   "name": "python",
   "nbconvert_exporter": "python",
   "pygments_lexer": "ipython3",
   "version": "3.8.5"
  },
  "orig_nbformat": 4
 },
 "nbformat": 4,
 "nbformat_minor": 2
}
