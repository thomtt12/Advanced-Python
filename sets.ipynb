{
 "cells": [
  {
   "cell_type": "markdown",
   "metadata": {},
   "source": [
    "- A Set is an unordered collection data type that is unindexed, mutable, and has no duplicate elements\n",
    "- Sets are created with braces"
   ]
  },
  {
   "cell_type": "code",
   "execution_count": 6,
   "metadata": {},
   "outputs": [
    {
     "name": "stdout",
     "output_type": "stream",
     "text": [
      "{'apple', 'banana', 'avocado'}\n",
      "{'one', 'three', 'two'}\n",
      "<class 'dict'>\n",
      "<class 'set'>\n"
     ]
    }
   ],
   "source": [
    "# create a set\n",
    "my_set = {\"apple\", \"banana\", \"avocado\"}\n",
    "print(my_set)\n",
    "\n",
    "# or use the set function\n",
    "my_set_2 = set([\"one\", 'two', \"three\"])\n",
    "my_set_2\n",
    "my_set_2 = set((\"one\", 'two', \"three\"))\n",
    "print(my_set_2)\n",
    "\n",
    "#create an empty set \n",
    "a = {} #  create an empty dict\n",
    "print(type(a))\n",
    "b = set()\n",
    "print(type(b))\n"
   ]
  },
  {
   "cell_type": "code",
   "execution_count": 10,
   "metadata": {},
   "outputs": [
    {
     "name": "stdout",
     "output_type": "stream",
     "text": [
      "{True, 42, 'Hello'}\n",
      "{True, 42, 'Hello'}\n"
     ]
    }
   ],
   "source": [
    "#Add elements\n",
    "my_set = set()\n",
    "# use the add() method\n",
    "my_set.add(42)\n",
    "my_set.add(True)\n",
    "my_set.add(\"Hello\")\n",
    "\n",
    "print(my_set)\n",
    "\n",
    "my_set.add(42) # nothing happens\n",
    "print(my_set)"
   ]
  },
  {
   "cell_type": "code",
   "execution_count": 11,
   "metadata": {},
   "outputs": [
    {
     "name": "stdout",
     "output_type": "stream",
     "text": [
      "{'banana', 'cherry'}\n",
      "{'banana'}\n",
      "set()\n",
      "False\n",
      "{True, 2, 'hello', 'hi'}\n"
     ]
    }
   ],
   "source": [
    "#remove elements \n",
    "# remove(x): removes x, raises a KeyError if element is not present\n",
    "my_set = {\"apple\", \"banana\", \"cherry\"}\n",
    "my_set.remove(\"apple\")\n",
    "print(my_set)\n",
    "\n",
    "# KeyError:\n",
    "# my_set.remove(\"orange\")\n",
    "\n",
    "# discard(x): removes x, does nothing if element is not present\n",
    "my_set.discard(\"cherry\")\n",
    "my_set.discard(\"blueberry\")\n",
    "print(my_set)\n",
    "\n",
    "# clear() : remove all elements\n",
    "my_set.clear()\n",
    "print(my_set)\n",
    "\n",
    "# pop() : return and remove a random element\n",
    "a = {True, 2, False, \"hi\", \"hello\"}\n",
    "print(a.pop())\n",
    "print(a)"
   ]
  },
  {
   "cell_type": "code",
   "execution_count": 12,
   "metadata": {},
   "outputs": [
    {
     "name": "stdout",
     "output_type": "stream",
     "text": [
      "yes\n"
     ]
    }
   ],
   "source": [
    "#check if element is in Set\n",
    "my_set = {\"apple\", \"banana\", \"cherry\"}\n",
    "if \"apple\" in my_set:\n",
    "    print(\"yes\")"
   ]
  },
  {
   "cell_type": "code",
   "execution_count": 25,
   "metadata": {},
   "outputs": [
    {
     "name": "stdout",
     "output_type": "stream",
     "text": [
      "apple\n",
      "banana\n",
      "cherry\n"
     ]
    }
   ],
   "source": [
    "#iterating \n",
    "my_set = {\"apple\", \"banana\", \"cherry\"}\n",
    "for i in my_set:\n",
    "    print(i)"
   ]
  },
  {
   "cell_type": "code",
   "execution_count": 27,
   "metadata": {},
   "outputs": [
    {
     "name": "stdout",
     "output_type": "stream",
     "text": [
      "{0, 1, 2, 3, 4, 5, 6, 7, 8, 9}\n",
      "set()\n",
      "{3, 5, 7}\n",
      "{2}\n"
     ]
    }
   ],
   "source": [
    "#Union and intersection \n",
    "odds = {1, 3, 5, 7, 9}\n",
    "evens = {0, 2, 4, 6, 8}\n",
    "primes = {2, 3, 5, 7}\n",
    "\n",
    "# union() : combine elements from both sets, no duplication\n",
    "# note that this does not change the two sets\n",
    "u = odds.union(evens)\n",
    "print(u)\n",
    "\n",
    "# intersection(): take elements that are in both sets\n",
    "i = odds.intersection(evens)\n",
    "print(i)\n",
    "\n",
    "i = odds.intersection(primes)\n",
    "print(i)\n",
    "\n",
    "i = evens.intersection(primes)\n",
    "print(i)"
   ]
  },
  {
   "cell_type": "code",
   "execution_count": 28,
   "metadata": {},
   "outputs": [
    {
     "name": "stdout",
     "output_type": "stream",
     "text": [
      "{4, 5, 6, 7, 8, 9}\n",
      "{10, 11, 12}\n",
      "{4, 5, 6, 7, 8, 9, 10, 11, 12}\n",
      "{4, 5, 6, 7, 8, 9, 10, 11, 12}\n"
     ]
    }
   ],
   "source": [
    "# Difference of sets\n",
    "setA = {1, 2, 3, 4, 5, 6, 7, 8, 9}\n",
    "setB = {1, 2, 3, 10, 11, 12}\n",
    "\n",
    "# difference() : returns a set with all the elements from the setA that are not in setB.\n",
    "diff_set = setA.difference(setB)\n",
    "print(diff_set)\n",
    "\n",
    "# A.difference(B) is not the same as B.difference(A)\n",
    "diff_set = setB.difference(setA)\n",
    "print(diff_set)\n",
    "\n",
    "# symmetric_difference() : returns a set with all the elements that are in setA and setB but not in both\n",
    "diff_set = setA.symmetric_difference(setB)\n",
    "print(diff_set)\n",
    "\n",
    "# A.symmetric_difference(B) = B.symmetric_difference(A)\n",
    "diff_set = setB.symmetric_difference(setA)\n",
    "print(diff_set)"
   ]
  },
  {
   "cell_type": "code",
   "execution_count": 29,
   "metadata": {},
   "outputs": [
    {
     "name": "stdout",
     "output_type": "stream",
     "text": [
      "{1, 2, 3, 4, 5, 6, 7, 8, 9, 10, 11, 12}\n",
      "{1, 2, 3}\n",
      "{4, 5, 6, 7, 8, 9}\n",
      "{4, 5, 6, 7, 8, 9, 10, 11, 12}\n"
     ]
    }
   ],
   "source": [
    "#Updating\n",
    "setA = {1, 2, 3, 4, 5, 6, 7, 8, 9}\n",
    "setB = {1, 2, 3, 10, 11, 12}\n",
    "\n",
    "# update() : Update the set by adding elements from another set.\n",
    "setA.update(setB)\n",
    "print(setA)\n",
    "\n",
    "# intersection_update() : Update the set by keeping only the elements found in both\n",
    "setA = {1, 2, 3, 4, 5, 6, 7, 8, 9}\n",
    "setA.intersection_update(setB)\n",
    "print(setA)\n",
    "\n",
    "# difference_update() : Update the set by removing elements found in another set.\n",
    "setA = {1, 2, 3, 4, 5, 6, 7, 8, 9}\n",
    "setA.difference_update(setB)\n",
    "print(setA)\n",
    "\n",
    "# symmetric_difference_update() : Update the set by only keeping the elements found in either set, but not in both\n",
    "setA = {1, 2, 3, 4, 5, 6, 7, 8, 9}\n",
    "setA.symmetric_difference_update(setB)\n",
    "print(setA)\n",
    "\n",
    "# Note: all update methods also work with other iterables as argument, e.g lists, tuples\n",
    "# setA.update([1, 2, 3, 4, 5, 6])"
   ]
  },
  {
   "cell_type": "code",
   "execution_count": 30,
   "metadata": {},
   "outputs": [
    {
     "name": "stdout",
     "output_type": "stream",
     "text": [
      "False\n",
      "True\n",
      "True\n",
      "False\n",
      "False\n",
      "True\n"
     ]
    }
   ],
   "source": [
    "# Subset, superset, disjoint\n",
    "setA = {1, 2, 3, 4, 5, 6}\n",
    "setB = {1, 2, 3}\n",
    "# issubset(setX): Returns True if setX contains the set\n",
    "print(setA.issubset(setB))\n",
    "print(setB.issubset(setA)) # True\n",
    "\n",
    "# issuperset(setX): Returns True if the set contains setX\n",
    "print(setA.issuperset(setB)) # True\n",
    "print(setB.issuperset(setA))\n",
    "\n",
    "# isdisjoint(setX) : Return True if both sets have a null intersection, i.e. no same elements\n",
    "setC = {7, 8, 9}\n",
    "print(setA.isdisjoint(setB))\n",
    "print(setA.isdisjoint(setC))"
   ]
  }
 ],
 "metadata": {
  "interpreter": {
   "hash": "a4097ea469f529610c79da385b8acfe83e275e6495d745e16ebcedfc416ee6a7"
  },
  "kernelspec": {
   "display_name": "Python 3.8.5 ('base')",
   "language": "python",
   "name": "python3"
  },
  "language_info": {
   "codemirror_mode": {
    "name": "ipython",
    "version": 3
   },
   "file_extension": ".py",
   "mimetype": "text/x-python",
   "name": "python",
   "nbconvert_exporter": "python",
   "pygments_lexer": "ipython3",
   "version": "3.8.5"
  },
  "orig_nbformat": 4
 },
 "nbformat": 4,
 "nbformat_minor": 2
}
