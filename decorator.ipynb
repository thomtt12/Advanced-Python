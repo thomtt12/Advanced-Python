{
 "cells": [
  {
   "cell_type": "markdown",
   "metadata": {},
   "source": [
    "-  Decorator là một hàm có thể nhận được các hàm khác, cho phép chạy đoạn code trước hoặc sau hàm chính\n",
    "- A decorator is a function that takes another function and extends the behavior of this function without explicitly modifying it. It is a very powerful tool that allows to add new functionality to an existing function.\n",
    "\n",
    "There are 2 kinds of decorators:\n",
    "\n",
    "- Function decorators\n",
    "- Class decorators"
   ]
  },
  {
   "cell_type": "markdown",
   "metadata": {},
   "source": [
    "### Một số ví dụ về function "
   ]
  },
  {
   "cell_type": "code",
   "execution_count": 5,
   "metadata": {},
   "outputs": [
    {
     "name": "stdout",
     "output_type": "stream",
     "text": [
      "hello Thom\n"
     ]
    }
   ],
   "source": [
    "\n",
    "#Gán cho function bằng một biến\n",
    "def greet(name):\n",
    "    return \"hello \" + name\n",
    "\n",
    "greet_someone = greet\n",
    "print(greet_someone(\"Thom\"))\n"
   ]
  },
  {
   "cell_type": "code",
   "execution_count": 7,
   "metadata": {},
   "outputs": [
    {
     "name": "stdout",
     "output_type": "stream",
     "text": [
      "Hello Thom\n"
     ]
    }
   ],
   "source": [
    "# Định nghĩa function trong một function khác\n",
    "def greet(name):\n",
    "    def get_message():\n",
    "        return \"Hello \"\n",
    "\n",
    "    result = get_message() + name\n",
    "    return result\n",
    "\n",
    "print(greet(\"Thom\"))"
   ]
  },
  {
   "cell_type": "code",
   "execution_count": 1,
   "metadata": {},
   "outputs": [
    {
     "name": "stdout",
     "output_type": "stream",
     "text": [
      "Hello John\n"
     ]
    }
   ],
   "source": [
    "# Function có thể truyền như một tham số đến một function khác\n",
    "def greet(name):\n",
    "    return \"Hello \"+ name\n",
    "\n",
    "def call_func(func):\n",
    "    other_name = \"John\"\n",
    "    return func(other_name)\n",
    "\n",
    "print(call_func(greet))"
   ]
  },
  {
   "cell_type": "code",
   "execution_count": 2,
   "metadata": {},
   "outputs": [
    {
     "name": "stdout",
     "output_type": "stream",
     "text": [
      "hello there!\n"
     ]
    }
   ],
   "source": [
    "# Function có thể trả về/sinh ra một function khác \n",
    "def compose_greet_func():\n",
    "    def get_message():\n",
    "        return \"hello there!\"\n",
    "    return get_message\n",
    "\n",
    "greet = compose_greet_func()\n",
    "print(greet())"
   ]
  },
  {
   "cell_type": "code",
   "execution_count": 3,
   "metadata": {},
   "outputs": [
    {
     "name": "stdout",
     "output_type": "stream",
     "text": [
      "Hello there Thom!\n"
     ]
    }
   ],
   "source": [
    "# Inner function có quyền truy cập đế tài nguyên trong scope \n",
    "#Closure \n",
    "def compose_greet_func(name):\n",
    "    def get_message():\n",
    "        return \"Hello there \" + name + \"!\"\n",
    "    return get_message\n",
    "\n",
    "greet = compose_greet_func(\"Thom\")\n",
    "print(greet())"
   ]
  },
  {
   "cell_type": "code",
   "execution_count": null,
   "metadata": {},
   "outputs": [],
   "source": []
  },
  {
   "cell_type": "markdown",
   "metadata": {},
   "source": []
  }
 ],
 "metadata": {
  "kernelspec": {
   "display_name": "Python 3.8.5 ('base')",
   "language": "python",
   "name": "python3"
  },
  "language_info": {
   "codemirror_mode": {
    "name": "ipython",
    "version": 3
   },
   "file_extension": ".py",
   "mimetype": "text/x-python",
   "name": "python",
   "nbconvert_exporter": "python",
   "pygments_lexer": "ipython3",
   "version": "3.8.5"
  },
  "orig_nbformat": 4,
  "vscode": {
   "interpreter": {
    "hash": "9cd9301c5e71a82283eb7f50953f410c8e55a849d4a6f54bedda3cdfdad6099a"
   }
  }
 },
 "nbformat": 4,
 "nbformat_minor": 2
}
